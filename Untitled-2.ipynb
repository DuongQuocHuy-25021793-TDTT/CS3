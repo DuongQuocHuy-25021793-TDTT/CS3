{
 "cells": [
  {
   "cell_type": "code",
   "execution_count": 1,
   "id": "12164493",
   "metadata": {},
   "outputs": [
    {
     "name": "stdout",
     "output_type": "stream",
     "text": [
      "Helo World\n"
     ]
    }
   ],
   "source": [
    "#W2A1\n",
    "print('Helo World')"
   ]
  },
  {
   "cell_type": "code",
   "execution_count": 2,
   "id": "05b7eeb7",
   "metadata": {},
   "outputs": [
    {
     "name": "stdout",
     "output_type": "stream",
     "text": [
      "chao ban Duong Quoc Huy\n"
     ]
    }
   ],
   "source": [
    "#W2A2\n",
    "name = input()\n",
    "print('chao ban', name)"
   ]
  },
  {
   "cell_type": "code",
   "execution_count": 3,
   "id": "b2a1c6b0",
   "metadata": {},
   "outputs": [
    {
     "name": "stdout",
     "output_type": "stream",
     "text": [
      "10 + 20 = 30\n",
      "10 - 20 = -10\n",
      "10 * 20 = 200\n",
      "10 / 20 = 0.5\n",
      "10 // 20 = 0\n",
      "10 % 20 = 10\n"
     ]
    }
   ],
   "source": [
    "#W2A3\n",
    "a = int(input()) # so thu nhat tren mot dong\n",
    "b = int(input()) # so thu hai tren dong thu hai \n",
    "print(f'{a} + {b} = {a + b}')\n",
    "print(f'{a} - {b} = {a - b}')\n",
    "print(f'{a} * {b} = {a * b}')\n",
    "print(f'{a} / {b} = {a / b}')\n",
    "print(f'{a} // {b} = {a // b}')\n",
    "print(f'{a} % {b} = {a % b}')"
   ]
  },
  {
   "cell_type": "code",
   "execution_count": 7,
   "id": "ac993a39",
   "metadata": {},
   "outputs": [
    {
     "name": "stdout",
     "output_type": "stream",
     "text": [
      "10 + 20 = 30\n",
      "10 - 20 = -10\n",
      "10 * 20 = 200\n",
      "10 / 20 = 0.5\n",
      "10 // 20 = 0\n",
      "10 % 20 = 10.00\n"
     ]
    }
   ],
   "source": [
    "#W2A3\n",
    "a, b = map(int, input(). split('/'))\n",
    "print(f'{a} + {b} = {a + b}')\n",
    "print(f'{a} - {b} = {a - b}')\n",
    "print(f'{a} * {b} = {a * b}')\n",
    "print(f'{a} / {b} = {a / b}')\n",
    "print(f'{a} // {b} = {a // b}')\n",
    "print(f'{a} % {b} = {a % b :.2f}')"
   ]
  },
  {
   "cell_type": "code",
   "execution_count": 9,
   "id": "c8003119",
   "metadata": {},
   "outputs": [
    {
     "name": "stdout",
     "output_type": "stream",
     "text": [
      "8.6\n"
     ]
    }
   ],
   "source": [
    "#W2A4\n",
    "line = input()\n",
    "a1, b1, c1, a2, b2, a3 = map(int, line.split())\n",
    "TB = (a1+ b1+ c1 + (a2+b2)*2 + (a3)*3)/10\n",
    "print(f'{TB:.1f}')\n"
   ]
  },
  {
   "cell_type": "code",
   "execution_count": 10,
   "id": "23cefcfe",
   "metadata": {},
   "outputs": [
    {
     "name": "stdout",
     "output_type": "stream",
     "text": [
      "10 ** 20 = 100000000000000000000\n"
     ]
    }
   ],
   "source": [
    "#W2A5\n",
    "a = int(input())\n",
    "b = int(input())\n",
    "print(f'{a} ** {b} = {a ** b}')"
   ]
  },
  {
   "cell_type": "code",
   "execution_count": 11,
   "id": "8664efc3",
   "metadata": {},
   "outputs": [
    {
     "name": "stdout",
     "output_type": "stream",
     "text": [
      "97\n",
      "A\n"
     ]
    }
   ],
   "source": [
    "#W2A6\n",
    "char = input() # nhap vao chi mot ki tu duy nhat\n",
    "print(ord(char))\n",
    "hoa = ord(char) - 32\n",
    "print(chr(hoa))"
   ]
  },
  {
   "cell_type": "code",
   "execution_count": 12,
   "id": "ffa75a3c",
   "metadata": {},
   "outputs": [
    {
     "name": "stdout",
     "output_type": "stream",
     "text": [
      "512\n"
     ]
    }
   ],
   "source": [
    "#W2A7\n",
    "A = ((13 ** 2) * 3) + 5\n",
    "print(A)"
   ]
  },
  {
   "cell_type": "code",
   "execution_count": 13,
   "id": "d5bf4b34",
   "metadata": {},
   "outputs": [
    {
     "name": "stdout",
     "output_type": "stream",
     "text": [
      "50.00\n"
     ]
    }
   ],
   "source": [
    "#W2A8\n",
    "C = int(input())\n",
    "F = 9/5 * C +32\n",
    "print(f'{F:.2f}')"
   ]
  },
  {
   "cell_type": "code",
   "execution_count": 14,
   "id": "f7d81f32",
   "metadata": {},
   "outputs": [
    {
     "name": "stdout",
     "output_type": "stream",
     "text": [
      "38.00\n"
     ]
    }
   ],
   "source": [
    "#W2A9\n",
    "x = int(input())\n",
    "a = 10 + 0.3 * x + 0.1 * x + x\n",
    "print(f'{a:.2f}')"
   ]
  },
  {
   "cell_type": "code",
   "execution_count": 15,
   "id": "a11e6cbd",
   "metadata": {},
   "outputs": [
    {
     "name": "stdout",
     "output_type": "stream",
     "text": [
      "['linh', 'khanh', 'pham']\n"
     ]
    }
   ],
   "source": [
    "#W2A10\n",
    "names = input().split()\n",
    "names.reverse()  # phep dao nguoc\n",
    "print(names)\n"
   ]
  },
  {
   "cell_type": "code",
   "execution_count": 16,
   "id": "1b53f7c7",
   "metadata": {},
   "outputs": [
    {
     "name": "stdout",
     "output_type": "stream",
     "text": [
      "37200\n"
     ]
    }
   ],
   "source": [
    "#W2A11\n",
    "a = int(input('nhapsogio :'))\n",
    "b = int(input('nhapsophut :'))\n",
    "c = (a * 3600) + (b * 60)\n",
    "print(c)"
   ]
  },
  {
   "cell_type": "code",
   "execution_count": 25,
   "id": "647553e3",
   "metadata": {},
   "outputs": [
    {
     "name": "stdout",
     "output_type": "stream",
     "text": [
      "54\n"
     ]
    }
   ],
   "source": [
    "#W2A12\n",
    "n = int(input('so canh cua rubik'))\n",
    "m = 6 * n * n # so mieng dan can thiet\n",
    "print(m)"
   ]
  },
  {
   "cell_type": "code",
   "execution_count": 26,
   "id": "36dd7bf5",
   "metadata": {},
   "outputs": [
    {
     "name": "stdout",
     "output_type": "stream",
     "text": [
      "0\n"
     ]
    }
   ],
   "source": [
    "#W2A13\n",
    "a = int(input())\n",
    "b = int(input())\n",
    "tich = a * b\n",
    "print(tich%10)\n"
   ]
  },
  {
   "cell_type": "code",
   "execution_count": 30,
   "id": "f2c8d42a",
   "metadata": {},
   "outputs": [
    {
     "name": "stdout",
     "output_type": "stream",
     "text": [
      " sau khi hoan doi: a= 20 , b= 10\n"
     ]
    }
   ],
   "source": [
    "#W2A14\n",
    "a = int(input())\n",
    "b = int(input())\n",
    "a = a + b\n",
    "b = a - b\n",
    "a = a - b\n",
    "print(' sau khi hoan doi: a=', a, ', b=', b)"
   ]
  },
  {
   "cell_type": "code",
   "execution_count": 32,
   "id": "bb22d072",
   "metadata": {},
   "outputs": [
    {
     "name": "stdout",
     "output_type": "stream",
     "text": [
      "541\n"
     ]
    }
   ],
   "source": [
    "#2A15\n",
    "n = int(input())\n",
    "Sn = 6 * n * (n - 1) + 1  # cong thuc tinh so sao thu n\n",
    "print(Sn)\n"
   ]
  },
  {
   "cell_type": "code",
   "execution_count": 17,
   "id": "6d8be0ce",
   "metadata": {},
   "outputs": [
    {
     "name": "stdout",
     "output_type": "stream",
     "text": [
      "\n",
      "spring \n",
      "summer\n",
      "autumn\n",
      "wwinter\n"
     ]
    }
   ],
   "source": [
    "#W2A16\n",
    "print('''\n",
    "spring \n",
    "summer\n",
    "autumn\n",
    "wwinter''')"
   ]
  },
  {
   "cell_type": "code",
   "execution_count": 18,
   "id": "e699c38d",
   "metadata": {},
   "outputs": [
    {
     "name": "stdout",
     "output_type": "stream",
     "text": [
      "spring\n",
      "summer\n",
      "autumn\n",
      "wwinter\n",
      "\n"
     ]
    }
   ],
   "source": [
    "#W2A16\n",
    "a = 'spring'\n",
    "b = 'summer'\n",
    "c = 'autumn'\n",
    "d = 'wwinter'\n",
    "endl = '\\n'\n",
    "print(a, endl, b, endl, c, endl, d, endl, sep = '')\n"
   ]
  },
  {
   "cell_type": "code",
   "execution_count": 19,
   "id": "68f41865",
   "metadata": {},
   "outputs": [
    {
     "name": "stdout",
     "output_type": "stream",
     "text": [
      "  * \n",
      " *** \n",
      "***** \n"
     ]
    }
   ],
   "source": [
    "#W2A17\n",
    "print('  * ')\n",
    "print(' *** ')\n",
    "print('***** ')"
   ]
  },
  {
   "cell_type": "code",
   "execution_count": 20,
   "id": "7fbcbdbf",
   "metadata": {},
   "outputs": [
    {
     "name": "stdout",
     "output_type": "stream",
     "text": [
      " ### ##  ### ### \n",
      "  #  # #  #   #  \n",
      "  #  #  # #   #  \n",
      "  #  # #  #   #  \n",
      "  #  #    #   #  \n"
     ]
    }
   ],
   "source": [
    "#W2A18\n",
    "print(' ### ##  ### ### ')\n",
    "print('  #  # #  #   #  ')\n",
    "print('  #  #  # #   #  ')\n",
    "print('  #  # #  #   #  ')\n",
    "print('  #  #    #   #  ')"
   ]
  },
  {
   "cell_type": "code",
   "execution_count": 21,
   "id": "31fd0a8d",
   "metadata": {},
   "outputs": [
    {
     "name": "stdout",
     "output_type": "stream",
     "text": [
      "\n",
      "monday\n",
      "tuesday\n",
      "wwednesday\n",
      "thursday\n",
      "friday\n",
      "saturday\n",
      "sunday \n"
     ]
    }
   ],
   "source": [
    "#W2A19\n",
    "print('''\n",
    "monday\n",
    "tuesday\n",
    "wwednesday\n",
    "thursday\n",
    "friday\n",
    "saturday\n",
    "sunday ''')"
   ]
  },
  {
   "cell_type": "code",
   "execution_count": 22,
   "id": "5eb17ece",
   "metadata": {},
   "outputs": [
    {
     "name": "stdout",
     "output_type": "stream",
     "text": [
      "\n",
      "january\n",
      "february\n",
      "march\n",
      "april\n",
      "may\n",
      "june\n",
      "july\n",
      "august\n",
      "september\n",
      "october\n",
      "november\n",
      "december \n"
     ]
    }
   ],
   "source": [
    "#W2A20\n",
    "print('''\n",
    "january\n",
    "february\n",
    "march\n",
    "april\n",
    "may\n",
    "june\n",
    "july\n",
    "august\n",
    "september\n",
    "october\n",
    "november\n",
    "december ''')"
   ]
  },
  {
   "cell_type": "code",
   "execution_count": 23,
   "id": "00eb512f",
   "metadata": {},
   "outputs": [
    {
     "name": "stdout",
     "output_type": "stream",
     "text": [
      "Hello, world\n",
      "Hello, world\n",
      "Hello, world\n",
      "Hello, world\n",
      "Hello, world\n",
      "Hello, world\n",
      "Hello, world\n",
      "Hello, world\n",
      "Hello, world\n",
      "Hello, world\n"
     ]
    }
   ],
   "source": [
    "#W2A21\n",
    "for i in range(10):\n",
    "    print('Hello, world')\n"
   ]
  },
  {
   "cell_type": "code",
   "execution_count": null,
   "id": "92a24dac",
   "metadata": {},
   "outputs": [],
   "source": []
  }
 ],
 "metadata": {
  "kernelspec": {
   "display_name": ".venv",
   "language": "python",
   "name": "python3"
  },
  "language_info": {
   "codemirror_mode": {
    "name": "ipython",
    "version": 3
   },
   "file_extension": ".py",
   "mimetype": "text/x-python",
   "name": "python",
   "nbconvert_exporter": "python",
   "pygments_lexer": "ipython3",
   "version": "3.13.7"
  }
 },
 "nbformat": 4,
 "nbformat_minor": 5
}
