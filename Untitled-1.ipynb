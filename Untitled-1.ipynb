{
 "cells": [
  {
   "cell_type": "code",
   "execution_count": 1,
   "id": "5c75da45",
   "metadata": {},
   "outputs": [
    {
     "name": "stdout",
     "output_type": "stream",
     "text": [
      "2\n"
     ]
    }
   ],
   "source": [
    "#W1A1\n",
    "a = 7\n",
    "b = 5\n",
    "c = a - b\n",
    "print(c)"
   ]
  },
  {
   "cell_type": "code",
   "execution_count": 2,
   "id": "caae6d6c",
   "metadata": {},
   "outputs": [
    {
     "name": "stdout",
     "output_type": "stream",
     "text": [
      "Thanh Pho Ha Noi - Nam 2025\n"
     ]
    }
   ],
   "source": [
    "#W1A2\n",
    "city = \"Ha Noi\" #Gan chuoi Ha Noi vao bien ten la city\n",
    "year = 2025 #Gan so 2025 (int) va bien ten la year\n",
    "print(\"Thanh Pho\", city , \"- Nam\", year) #In chuoi "
   ]
  },
  {
   "cell_type": "code",
   "execution_count": 3,
   "id": "8f1bc996",
   "metadata": {},
   "outputs": [
    {
     "name": "stdout",
     "output_type": "stream",
     "text": [
      "1\n",
      "3\n",
      "6\n",
      "10\n"
     ]
    }
   ],
   "source": [
    "#W1A3\n",
    "n = 4\n",
    "t = 0\n",
    "for i in range(1, n+1): #i = 1, 2, 3, 4\n",
    "    t += i #t= t+1\n",
    "    print(t) #thuoc vong for"
   ]
  },
  {
   "cell_type": "code",
   "execution_count": 4,
   "id": "7726f1e9",
   "metadata": {},
   "outputs": [
    {
     "name": "stdout",
     "output_type": "stream",
     "text": [
      "10\n"
     ]
    }
   ],
   "source": [
    "#W1A3\n",
    "n = 4\n",
    "t = 0\n",
    "for i in range(1, n+1): #i = 1, 2, 3, 4\n",
    "    t += i #t= t+1\n",
    "print(t) #thuc hien mot lan sau khi da ket thuc vong lap for"
   ]
  },
  {
   "cell_type": "code",
   "execution_count": 5,
   "id": "4853bf0a",
   "metadata": {},
   "outputs": [
    {
     "name": "stdout",
     "output_type": "stream",
     "text": [
      "1 la so le\n",
      "2 la so chan\n",
      "3 la so le\n",
      "4 la so chan\n"
     ]
    }
   ],
   "source": [
    "#W1A4\n",
    "numbers = [1, 2, 3, 4]\n",
    "for x in numbers:\n",
    "    if x % 2==0:\n",
    "        print(x, \"la so chan\")\n",
    "    else:\n",
    "        print(x, \"la so le\")"
   ]
  },
  {
   "cell_type": "code",
   "execution_count": 6,
   "id": "8508cb3c",
   "metadata": {},
   "outputs": [
    {
     "name": "stdout",
     "output_type": "stream",
     "text": [
      "so phan tu trong danh sach la: 1\n",
      "so phan tu trong danh sach la: 2\n",
      "so phan tu trong danh sach la: 3\n",
      "so phan tu trong danh sach la: 4\n"
     ]
    }
   ],
   "source": [
    "#W1A5\n",
    "animals = [\"cat\", 'dog', 'cat', 'bird']\n",
    "count = 0\n",
    "for a in animals:\n",
    "    count += 1\n",
    "    print('so phan tu trong danh sach la:', count)"
   ]
  },
  {
   "cell_type": "code",
   "execution_count": 7,
   "id": "45dee9b1",
   "metadata": {},
   "outputs": [
    {
     "name": "stdout",
     "output_type": "stream",
     "text": [
      "so le\n"
     ]
    }
   ],
   "source": [
    "#W1A7\n",
    "num = int(input('nhap so:'))  # phai ep sang kieu int\n",
    "if num % 2 == 0:   # pk la ==\n",
    " print('so chan')   # phai thut vao \n",
    "else: # thieu dau :\n",
    " print('so le')"
   ]
  },
  {
   "cell_type": "code",
   "execution_count": 8,
   "id": "17343080",
   "metadata": {},
   "outputs": [
    {
     "name": "stdout",
     "output_type": "stream",
     "text": [
      "AI dang hoc lan 1\n",
      "Huan luyen xong!\n",
      "AI dang hoc lan 2\n",
      "Huan luyen xong!\n",
      "AI dang hoc lan 3\n",
      "Huan luyen xong!\n"
     ]
    }
   ],
   "source": [
    "#W1A8\n",
    "for i in range(3):\n",
    "    print('AI dang hoc lan', i + 1)\n",
    "    print('Huan luyen xong!')"
   ]
  },
  {
   "cell_type": "code",
   "execution_count": 9,
   "id": "75b3f3cd",
   "metadata": {},
   "outputs": [
    {
     "name": "stdout",
     "output_type": "stream",
     "text": [
      "Du doan con vat: cat\n",
      "Du doan con vat: dog\n",
      "Du doan con vat: fish\n"
     ]
    }
   ],
   "source": [
    "#W1A9\n",
    "for x in ['cat', 'dog', 'fish']:\n",
    "    print('Du doan con vat:', x)"
   ]
  },
  {
   "cell_type": "code",
   "execution_count": 10,
   "id": "2d30151c",
   "metadata": {},
   "outputs": [
    {
     "name": "stdout",
     "output_type": "stream",
     "text": [
      "=== AI Prediction System ===\n",
      "1) Sentiment analysis\n",
      "2) Weather forecast\n",
      "3) Exit\n",
      "Please choose an option:\n"
     ]
    }
   ],
   "source": [
    "#W1A10\n",
    "# Simple menu\n",
    "print('=== AI Prediction System ===') # khong duoc dung '...' ma dung (...)\n",
    "print('1) Sentiment analysis')  # thieu dau ngoac\n",
    "print('2) Weather forecast') # thua dau ngoac\n",
    "print('3) Exit')  # thieu dau ngoac\n",
    "print('Please choose an option:')"
   ]
  },
  {
   "cell_type": "code",
   "execution_count": null,
   "id": "490ba691",
   "metadata": {},
   "outputs": [],
   "source": []
  }
 ],
 "metadata": {
  "kernelspec": {
   "display_name": ".venv",
   "language": "python",
   "name": "python3"
  },
  "language_info": {
   "codemirror_mode": {
    "name": "ipython",
    "version": 3
   },
   "file_extension": ".py",
   "mimetype": "text/x-python",
   "name": "python",
   "nbconvert_exporter": "python",
   "pygments_lexer": "ipython3",
   "version": "3.13.7"
  }
 },
 "nbformat": 4,
 "nbformat_minor": 5
}
