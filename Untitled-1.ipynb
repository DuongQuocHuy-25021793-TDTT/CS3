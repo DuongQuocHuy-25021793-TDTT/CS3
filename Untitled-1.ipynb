{
 "cells": [
  {
   "cell_type": "code",
   "execution_count": 1,
   "id": "de5931d7",
   "metadata": {},
   "outputs": [
    {
     "name": "stdout",
     "output_type": "stream",
     "text": [
      "2\n"
     ]
    }
   ],
   "source": [
    "#W1A1\n",
    "a = 7\n",
    "b = 5\n",
    "c = a - b\n",
    "print(c)"
   ]
  },
  {
   "cell_type": "code",
   "execution_count": 2,
   "id": "58c62b05",
   "metadata": {},
   "outputs": [
    {
     "name": "stdout",
     "output_type": "stream",
     "text": [
      "Thanh Pho Ha Noi - Nam 2025\n"
     ]
    }
   ],
   "source": [
    "#W1A2\n",
    "city = \"Ha Noi\" #Gan chuoi Ha Noi vao bien ten la city\n",
    "year = 2025 #Gan so 2025 (int) va bien ten la year\n",
    "print(\"Thanh Pho\", city , \"- Nam\", year) #In chuoi "
   ]
  },
  {
   "cell_type": "code",
   "execution_count": 3,
   "id": "30fddc55",
   "metadata": {},
   "outputs": [
    {
     "name": "stdout",
     "output_type": "stream",
     "text": [
      "1\n",
      "3\n",
      "6\n",
      "10\n"
     ]
    }
   ],
   "source": [
    "#W1A3\n",
    "n = 4\n",
    "t = 0\n",
    "for i in range(1, n+1): #i = 1, 2, 3, 4\n",
    "    t += i #t= t+1\n",
    "    print(t) #thuoc vong for"
   ]
  },
  {
   "cell_type": "code",
   "execution_count": 4,
   "id": "5aa7afcf",
   "metadata": {},
   "outputs": [
    {
     "name": "stdout",
     "output_type": "stream",
     "text": [
      "10\n"
     ]
    }
   ],
   "source": [
    "#W1A3\n",
    "n = 4\n",
    "t = 0\n",
    "for i in range(1, n+1): #i = 1, 2, 3, 4\n",
    "    t += i #t= t+1\n",
    "print(t) #thuc hien mot lan sau khi da ket thuc vong lap for"
   ]
  },
  {
   "cell_type": "code",
   "execution_count": 5,
   "id": "ce08e37f",
   "metadata": {},
   "outputs": [
    {
     "name": "stdout",
     "output_type": "stream",
     "text": [
      "1 la so le\n",
      "2 la so chan\n",
      "3 la so le\n",
      "4 la so chan\n"
     ]
    }
   ],
   "source": [
    "#W1A4\n",
    "numbers = [1, 2, 3, 4]\n",
    "for x in numbers:\n",
    "    if x % 2==0:\n",
    "        print(x, \"la so chan\")\n",
    "    else:\n",
    "        print(x, \"la so le\")"
   ]
  },
  {
   "cell_type": "code",
   "execution_count": 6,
   "id": "088987ad",
   "metadata": {},
   "outputs": [
    {
     "name": "stdout",
     "output_type": "stream",
     "text": [
      "so phan tu trong danh sach la: 1\n",
      "so phan tu trong danh sach la: 2\n",
      "so phan tu trong danh sach la: 3\n",
      "so phan tu trong danh sach la: 4\n"
     ]
    }
   ],
   "source": [
    "#W1A5\n",
    "animals = [\"cat\", 'dog', 'cat', 'bird']\n",
    "count = 0\n",
    "for a in animals:\n",
    "    count += 1\n",
    "    print('so phan tu trong danh sach la:', count)"
   ]
  },
  {
   "cell_type": "code",
   "execution_count": 7,
   "id": "ea789d0e",
   "metadata": {},
   "outputs": [
    {
     "ename": "SyntaxError",
     "evalue": "unmatched ')' (1801996982.py, line 3)",
     "output_type": "error",
     "traceback": [
      "  \u001b[36mCell\u001b[39m\u001b[36m \u001b[39m\u001b[32mIn[7]\u001b[39m\u001b[32m, line 3\u001b[39m\n\u001b[31m    \u001b[39m\u001b[31m1) Sentiment analysis\u001b[39m\n     ^\n\u001b[31mSyntaxError\u001b[39m\u001b[31m:\u001b[39m unmatched ')'\n"
     ]
    }
   ],
   "source": [
    "#W1A6\n",
    "=== AI prediction system ===\n",
    "1) Sentiment analysis\n",
    "2) Weather forecast\n",
    "3) Exit\n",
    "please choose an optin:"
   ]
  },
  {
   "cell_type": "code",
   "execution_count": 8,
   "id": "29e1d823",
   "metadata": {},
   "outputs": [
    {
     "name": "stdout",
     "output_type": "stream",
     "text": [
      "so le\n"
     ]
    }
   ],
   "source": [
    "#W1A7\n",
    "num = int(input('nhap so:'))  # phai ep sang kieu int\n",
    "if num % 2 == 0:   # pk la ==\n",
    " print('so chan')   # phai thut vao \n",
    "else: # thieu dau :\n",
    " print('so le')"
   ]
  },
  {
   "cell_type": "code",
   "execution_count": 9,
   "id": "3c2c0358",
   "metadata": {},
   "outputs": [
    {
     "name": "stdout",
     "output_type": "stream",
     "text": [
      "AI dang hoc lan 1\n",
      "Huan luyen xong!\n",
      "AI dang hoc lan 2\n",
      "Huan luyen xong!\n",
      "AI dang hoc lan 3\n",
      "Huan luyen xong!\n"
     ]
    }
   ],
   "source": [
    "#W1A8\n",
    "for i in range(3):\n",
    "    print('AI dang hoc lan', i + 1)\n",
    "    print('Huan luyen xong!')"
   ]
  },
  {
   "cell_type": "code",
   "execution_count": 10,
   "id": "1e2b855f",
   "metadata": {},
   "outputs": [
    {
     "name": "stdout",
     "output_type": "stream",
     "text": [
      "Du doan con vat: cat\n",
      "Du doan con vat: dog\n",
      "Du doan con vat: fish\n"
     ]
    }
   ],
   "source": [
    "#W1A9\n",
    "for x in ['cat', 'dog', 'fish']:\n",
    "    print('Du doan con vat:', x)"
   ]
  },
  {
   "cell_type": "code",
   "execution_count": 11,
   "id": "f134a6be",
   "metadata": {},
   "outputs": [
    {
     "name": "stdout",
     "output_type": "stream",
     "text": [
      "=== AI Prediction System ===\n",
      "1) Sentiment analysis\n",
      "2) Weather forecast\n",
      "3) Exit\n",
      "Please choose an option:\n"
     ]
    }
   ],
   "source": [
    "#W1A10\n",
    "# Simple menu\n",
    "print('=== AI Prediction System ===') # khong duoc dung '...' ma dung (...)\n",
    "print('1) Sentiment analysis')  # thieu dau ngoac\n",
    "print('2) Weather forecast') # thua dau ngoac\n",
    "print('3) Exit')  # thieu dau ngoac\n",
    "print('Please choose an option:')"
   ]
  },
  {
   "cell_type": "code",
   "execution_count": null,
   "id": "9760036a",
   "metadata": {},
   "outputs": [],
   "source": []
  }
 ],
 "metadata": {
  "kernelspec": {
   "display_name": ".venv",
   "language": "python",
   "name": "python3"
  },
  "language_info": {
   "codemirror_mode": {
    "name": "ipython",
    "version": 3
   },
   "file_extension": ".py",
   "mimetype": "text/x-python",
   "name": "python",
   "nbconvert_exporter": "python",
   "pygments_lexer": "ipython3",
   "version": "3.13.7"
  }
 },
 "nbformat": 4,
 "nbformat_minor": 5
}
