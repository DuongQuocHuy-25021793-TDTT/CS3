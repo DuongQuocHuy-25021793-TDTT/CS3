{
 "cells": [
  {
   "cell_type": "code",
   "execution_count": null,
   "id": "97f8273d",
   "metadata": {},
   "outputs": [],
   "source": [
    "city = \"Ha Noi\" #Gan chuoi Ha Noi vao bien ten la city\n",
    "year = 2025 #Gan so 2025 (int) va bien ten la year\n",
    "print(\"Thanh Pho\", city , \"- Nam\", year) #In chuoi \n",
    "\n",
    "\n",
    "\n",
    "\n",
    "\n"
   ]
  },
  {
   "cell_type": "code",
   "execution_count": null,
   "id": "02fcf8f6",
   "metadata": {},
   "outputs": [],
   "source": []
  }
 ],
 "metadata": {
  "language_info": {
   "name": "python"
  }
 },
 "nbformat": 4,
 "nbformat_minor": 5
}
