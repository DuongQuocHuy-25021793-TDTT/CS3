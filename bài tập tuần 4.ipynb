{
 "cells": [
  {
   "cell_type": "code",
   "execution_count": 3,
   "id": "f293a60c",
   "metadata": {},
   "outputs": [
    {
     "name": "stdout",
     "output_type": "stream",
     "text": [
      "1\n",
      "3\n",
      "6\n",
      "10\n",
      "15\n"
     ]
    }
   ],
   "source": [
    "#4WA1\n",
    "n = int(input())\n",
    "sum = 0\n",
    "for i in range (1 , n+1):\n",
    "    sum += i\n",
    "    print(sum)\n",
    "\n"
   ]
  },
  {
   "cell_type": "code",
   "execution_count": 19,
   "id": "de05608e",
   "metadata": {},
   "outputs": [
    {
     "name": "stdout",
     "output_type": "stream",
     "text": [
      "2\n",
      "2  la so nguyen to \n"
     ]
    }
   ],
   "source": [
    "#4WA2\n",
    "n = 0\n",
    "for _ in range (10000) : \n",
    "    n = int(input('nhap vao mot so duong'))\n",
    "    if n > 0 :\n",
    "        break \n",
    "    else:\n",
    "        print('nhap lai di ')\n",
    "\n",
    "print(n)\n",
    "# kiem tra xem phai so nguyen to khong\n",
    "cnt = 0\n",
    "for i in range(1 , n+1):\n",
    "    if n % i == 0 :\n",
    "        cnt += 1\n",
    "if cnt == 2 :\n",
    "    print(n , ' la so nguyen to ')\n",
    "else:\n",
    "    print(n, 'khong phai so nguyen to')"
   ]
  },
  {
   "cell_type": "code",
   "execution_count": 22,
   "id": "689b2336",
   "metadata": {},
   "outputs": [
    {
     "name": "stdout",
     "output_type": "stream",
     "text": [
      "3628800\n",
      "3628800\n"
     ]
    }
   ],
   "source": [
    "#4WA3\n",
    "from math import*\n",
    "n = int(input())\n",
    "print(factorial(n))\n",
    "# cách 2 :\n",
    "n = int(input())\n",
    "s = 1\n",
    "for i in range(1, n+1):\n",
    "    s *= i\n",
    "print(s)\n"
   ]
  },
  {
   "cell_type": "code",
   "execution_count": 34,
   "id": "a432f8ac",
   "metadata": {},
   "outputs": [
    {
     "name": "stdout",
     "output_type": "stream",
     "text": [
      "so chu so cua n :  5\n"
     ]
    }
   ],
   "source": [
    "#4WA4:\n",
    "n = int(input(' nhap vao so n :'))\n",
    "count = 0\n",
    "temp = n\n",
    "for _ in range(100000):\n",
    "    if temp > 0:\n",
    "      count += 1\n",
    "      temp //= 10\n",
    "    else:\n",
    "       break\n",
    "print('so chu so cua n : ', count)"
   ]
  },
  {
   "cell_type": "code",
   "execution_count": 39,
   "id": "25745d53",
   "metadata": {},
   "outputs": [
    {
     "name": "stdout",
     "output_type": "stream",
     "text": [
      "tổng các chữ số chẵn của n :  6\n"
     ]
    }
   ],
   "source": [
    "# bài thêm :\n",
    "# Nhap vao mot so nguyen (am hoac duong) n\n",
    "# Tinh tong cac chu so chan co mat trong n\n",
    "n = int(input())\n",
    "n = abs(n)\n",
    "Sum = 0\n",
    "temp = n \n",
    "for _ in range(1000000):\n",
    "    if temp > 0 :\n",
    "        d = temp % 10\n",
    "        if d % 2 == 0:\n",
    "            Sum = Sum + d\n",
    "        temp = temp // 10\n",
    "    else:\n",
    "        break\n",
    "print('tổng các chữ số chẵn của n : ', Sum)\n"
   ]
  },
  {
   "cell_type": "code",
   "execution_count": 40,
   "id": "6b5e88ec",
   "metadata": {},
   "outputs": [
    {
     "name": "stdout",
     "output_type": "stream",
     "text": [
      " I've found the meaning of life \n"
     ]
    }
   ],
   "source": [
    "#4WA5:\n",
    "n = int(input())\n",
    "flag = False\n",
    "for _ in range(n):\n",
    "    x = int(input())\n",
    "    if x == 42:\n",
    "        flag =  True\n",
    "        break\n",
    "if flag == True:\n",
    "    print(\" I've found the meaning of life \")\n",
    "else:\n",
    "    print(\" It's a joke\")\n"
   ]
  },
  {
   "cell_type": "code",
   "execution_count": null,
   "id": "16d7184d",
   "metadata": {},
   "outputs": [],
   "source": []
  }
 ],
 "metadata": {
  "kernelspec": {
   "display_name": "Python 3",
   "language": "python",
   "name": "python3"
  },
  "language_info": {
   "codemirror_mode": {
    "name": "ipython",
    "version": 3
   },
   "file_extension": ".py",
   "mimetype": "text/x-python",
   "name": "python",
   "nbconvert_exporter": "python",
   "pygments_lexer": "ipython3",
   "version": "3.13.7"
  }
 },
 "nbformat": 4,
 "nbformat_minor": 5
}
