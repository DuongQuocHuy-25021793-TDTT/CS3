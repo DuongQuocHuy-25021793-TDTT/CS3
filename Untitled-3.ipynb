{
 "cells": [
  {
   "cell_type": "code",
   "execution_count": 2,
   "id": "464101d1",
   "metadata": {},
   "outputs": [
    {
     "name": "stdout",
     "output_type": "stream",
     "text": [
      "20\n"
     ]
    }
   ],
   "source": [
    "#bai1\n",
    "n = int(input(' nhap so :'))\n",
    "print(n+n)\n"
   ]
  },
  {
   "cell_type": "code",
   "execution_count": 3,
   "id": "137ad2ad",
   "metadata": {},
   "outputs": [
    {
     "name": "stdout",
     "output_type": "stream",
     "text": [
      " 121.50\n"
     ]
    }
   ],
   "source": [
    "#bai2\n",
    "a = int(input(chieu rong))\n",
    "b = int(input(chieu dai))\n",
    "r = a / 2\n",
    "S1 = 3.14 * (r ** 2)\n",
    "S2 = a * b\n",
    "S = S2 - S1\n",
    "print(f'{S: .2f}')"
   ]
  },
  {
   "cell_type": "code",
   "execution_count": 7,
   "id": "6c5c496e",
   "metadata": {},
   "outputs": [
    {
     "name": "stdout",
     "output_type": "stream",
     "text": [
      "Kết quả: A\n"
     ]
    }
   ],
   "source": [
    "#bai3\n",
    "c = input(\"Nhập 1 ký tự: \")\n",
    "\n",
    "if c.isupper():   # nếu là chữ hoa\n",
    "    print(\"Kết quả:\", c.lower())\n",
    "elif c.islower(): # nếu là chữ thường\n",
    "    print(\"Kết quả:\", c.upper())\n",
    "else:\n",
    "    print(\"Ký tự không phải chữ cái!\")\n"
   ]
  },
  {
   "cell_type": "code",
   "execution_count": 8,
   "id": "ec9b0a12",
   "metadata": {},
   "outputs": [
    {
     "name": "stdout",
     "output_type": "stream",
     "text": [
      "C là kí tự alphabet\n"
     ]
    }
   ],
   "source": [
    "\n",
    "#bai4\n",
    "c = input(\"Nhập một ký tự: \")\n",
    "\n",
    "if ('A' <= c <= 'Z') or ('a' <= c <= 'z'):\n",
    "    print(f\"{c} là kí tự alphabet\")\n",
    "else:\n",
    "    print(f\"{c} không phải là kí tự alphabet\")\n",
    "\n"
   ]
  },
  {
   "cell_type": "code",
   "execution_count": 9,
   "id": "24351dcf",
   "metadata": {},
   "outputs": [
    {
     "name": "stdout",
     "output_type": "stream",
     "text": [
      "Chữ cái thường liền trước: a\n"
     ]
    }
   ],
   "source": [
    "#bai5\n",
    "c = input(\"Nhập một chữ cái hoa: \")\n",
    "\n",
    "if c == 'A':\n",
    "    print(\"Trường hợp đặc biệt: trước 'a' không có chữ cái nào\")\n",
    "elif 'A' <= c <= 'Z':\n",
    "    lower_char = c.lower()\n",
    "    truoc = chr(ord(lower_char) - 1)   # ký tự liền trước\n",
    "    print(\"Chữ cái thường liền trước:\", truoc)\n",
    "else:\n",
    "    print(\"Không phải chữ cái hoa!\")\n",
    "\n"
   ]
  },
  {
   "cell_type": "code",
   "execution_count": 10,
   "id": "4b6454d8",
   "metadata": {},
   "outputs": [
    {
     "name": "stdout",
     "output_type": "stream",
     "text": [
      "Diện tích tam giác = 74.5\n"
     ]
    }
   ],
   "source": [
    "#bai6\n",
    "import math\n",
    "\n",
    "a = float(input(\"Nhập cạnh a: \"))\n",
    "b = float(input(\"Nhập cạnh b: \"))\n",
    "c = float(input(\"Nhập cạnh c: \"))\n",
    "\n",
    "if a + b > c and a + c > b and b + c > a:\n",
    "    p = (a + b + c) / 2\n",
    "    s = math.sqrt(p * (p - a) * (p - b) * (p - c))\n",
    "    print(\"Diện tích tam giác =\", round(s, 1))\n",
    "else:\n",
    "    print(\"Khong phai 3 canh cua tam giac\")\n"
   ]
  },
  {
   "cell_type": "code",
   "execution_count": 15,
   "id": "df0557c1",
   "metadata": {},
   "outputs": [
    {
     "name": "stdout",
     "output_type": "stream",
     "text": [
      "Ký tự thứ 5: n\n",
      "Ký tự thứ 9: h\n"
     ]
    }
   ],
   "source": [
    "\n",
    "#bai7\n",
    "s = input(\"Nhập chuỗi ki tu: \")\n",
    "\n",
    "if len(s) >= 20:\n",
    "    print(\"Ký tự thứ 5:\", s[4])\n",
    "    print(\"Ký tự thứ 9:\", s[8])\n",
    "else:\n",
    "    print(\"nhap du it nhat 20 ki tu!\")\n",
    "\n",
    "\n",
    "\n"
   ]
  },
  {
   "cell_type": "code",
   "execution_count": 17,
   "id": "fd3416e4",
   "metadata": {},
   "outputs": [
    {
     "name": "stdout",
     "output_type": "stream",
     "text": [
      " Ho va Ten : Dương Quốc Huy\n",
      " so tien thang nay : 2911866084\n"
     ]
    }
   ],
   "source": [
    "#bai8\n",
    "ten = input(\" ten chu ho :\")\n",
    "Thang_truoc = int(input(\" Chi so thang truoc:\"))\n",
    "Thang_nay = int(input(\" Chi so thang nay:\"))\n",
    "So_dien = Thang_nay - Thang_truoc\n",
    "tien = 0\n",
    "if So_dien <= 50:\n",
    "    tien = So_dien * 1984\n",
    "elif So_dien <= 100:\n",
    "    tien = 50 * 1984 + (So_dien-50) * 2050\n",
    "elif So_dien <= 200:\n",
    "    tien = 50 * 1984 + 50 * 2050 +(So_dien-100) * 2380\n",
    "elif So_dien <= 300:\n",
    "    tien = 50 * 1984 + 50 * 2050 + 100 * 2380 + (So_dien-200) * 2998\n",
    "elif So_dien <=400:\n",
    "    tien = 50 * 1984 + 50 * 2050 + 100 * 2380 + 100 * 2998 + (So_dien-300) * 3350\n",
    "else:\n",
    "    tien= 50 * 1984 + 50 * 2050 + 100 * 2380 + 100 * 2998 + 100 * 3350 +(So_dien-400) * 3460\n",
    "tien = int( tien * 1.08)\n",
    "print(\" Ho va Ten :\", ten)\n",
    "print(\" so tien thang nay :\", tien)"
   ]
  },
  {
   "cell_type": "code",
   "execution_count": null,
   "id": "a5c6fbe4",
   "metadata": {},
   "outputs": [],
   "source": []
  }
 ],
 "metadata": {
  "kernelspec": {
   "display_name": ".venv",
   "language": "python",
   "name": "python3"
  },
  "language_info": {
   "codemirror_mode": {
    "name": "ipython",
    "version": 3
   },
   "file_extension": ".py",
   "mimetype": "text/x-python",
   "name": "python",
   "nbconvert_exporter": "python",
   "pygments_lexer": "ipython3",
   "version": "3.13.7"
  }
 },
 "nbformat": 4,
 "nbformat_minor": 5
}
