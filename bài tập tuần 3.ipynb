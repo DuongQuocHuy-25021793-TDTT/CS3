{
 "cells": [
  {
   "cell_type": "code",
   "execution_count": 1,
   "id": "472ccd32",
   "metadata": {},
   "outputs": [
    {
     "name": "stdout",
     "output_type": "stream",
     "text": [
      " sau khi hoan doi : a = 7  b= 23\n"
     ]
    }
   ],
   "source": [
    "#3WA2 :\n",
    "a = 23\n",
    "b = 7\n",
    "a = a ^ b\n",
    "b = a ^ b\n",
    "a = a ^ b\n",
    "print(' sau khi hoan doi : a =', a ,' b=',b)"
   ]
  },
  {
   "cell_type": "code",
   "execution_count": null,
   "id": "6e6d439e",
   "metadata": {},
   "outputs": [],
   "source": [
    "#3WA3:\n",
    "a = int(input())\n",
    "if a > 0 and  a & (a-1) ==0 :\n",
    "    print('a là lũy thừa của hai')\n",
    "else:\n",
    "    print('a không là lũy thừa của hai')\n",
    "\n"
   ]
  },
  {
   "cell_type": "code",
   "execution_count": null,
   "id": "a47ac968",
   "metadata": {},
   "outputs": [
    {
     "name": "stdout",
     "output_type": "stream",
     "text": [
      "1\n"
     ]
    }
   ],
   "source": [
    "#3WA4:\n",
    "from math import*\n",
    "m = float(input())\n",
    "n = float(input())\n",
    "a = m / n\n",
    "print(floor(a))"
   ]
  },
  {
   "cell_type": "code",
   "execution_count": null,
   "id": "f19d21eb",
   "metadata": {},
   "outputs": [
    {
     "name": "stdout",
     "output_type": "stream",
     "text": [
      "2\n"
     ]
    }
   ],
   "source": [
    "#3WA5:\n",
    "from math import*\n",
    "m = float(input())\n",
    "n = float(input())\n",
    "a = m / n\n",
    "print(ceil(a))\n"
   ]
  },
  {
   "cell_type": "code",
   "execution_count": null,
   "id": "fbb741da",
   "metadata": {},
   "outputs": [
    {
     "name": "stdout",
     "output_type": "stream",
     "text": [
      "odd\n"
     ]
    }
   ],
   "source": [
    "#3WA6:\n",
    "x = int(input()) \n",
    "x > 0\n",
    "if x % 2 == 0:\n",
    "    print(' event')\n",
    "else:\n",
    "    print('odd')"
   ]
  },
  {
   "cell_type": "code",
   "execution_count": null,
   "id": "efac674d",
   "metadata": {},
   "outputs": [
    {
     "name": "stdout",
     "output_type": "stream",
     "text": [
      "NO\n"
     ]
    }
   ],
   "source": [
    "#3WA7:\n",
    "a , b = map(float , input().split())\n",
    "if a < 0 and b < 0 :\n",
    "    print('YES')\n",
    "else:\n",
    "    print('NO')\n",
    "    "
   ]
  },
  {
   "cell_type": "code",
   "execution_count": null,
   "id": "6505e75a",
   "metadata": {},
   "outputs": [
    {
     "name": "stdout",
     "output_type": "stream",
     "text": [
      "YES\n"
     ]
    }
   ],
   "source": [
    "#3WA9:\n",
    "a , b , c = map(int , input().split())\n",
    "a and b and c > 0\n",
    "if a+b>c or a+c>b or b+c>a:\n",
    "    print('YES')\n",
    "else:\n",
    "    print(\"NO\")\n"
   ]
  },
  {
   "cell_type": "code",
   "execution_count": null,
   "id": "89118687",
   "metadata": {},
   "outputs": [
    {
     "name": "stdout",
     "output_type": "stream",
     "text": [
      "true\n"
     ]
    }
   ],
   "source": [
    "#3WA8:\n",
    "a = str(input())\n",
    "b = str(input())\n",
    "if a > b :\n",
    "    print('true')\n",
    "else:\n",
    "    print('flase')\n",
    "    \n"
   ]
  },
  {
   "cell_type": "code",
   "execution_count": null,
   "id": "cbd8bf77",
   "metadata": {},
   "outputs": [
    {
     "name": "stdout",
     "output_type": "stream",
     "text": [
      "4\n"
     ]
    }
   ],
   "source": [
    "#3WA10:\n",
    "a , b , c, d =map(int , input().split())\n",
    "print(max(a , b , c, d))      "
   ]
  },
  {
   "cell_type": "code",
   "execution_count": null,
   "id": "55c7e5ce",
   "metadata": {},
   "outputs": [
    {
     "name": "stdout",
     "output_type": "stream",
     "text": [
      " tam giac cân \n"
     ]
    }
   ],
   "source": [
    "#3WA11:\n",
    "a = float(input())\n",
    "b = float(input())\n",
    "c = float(input())\n",
    "if a + b <= c or a + c <= b or b + c <= a :\n",
    "    print( ' khong la 3 canh cua mot tam giac')\n",
    "else : \n",
    "    if a==b==c :\n",
    "        print(' tam giác đều')\n",
    "    elif a==b!=c or a==c!=b or b==c!=a :\n",
    "        print(' tam giac cân ')\n",
    "    elif a**2+b**2 == c**2 or a**2+c**2 == b**2 or b**2+c**2 == a**2 :\n",
    "        print(' tam giác vuông ')\n",
    "    else:\n",
    "        print(' tam giác thường ')"
   ]
  },
  {
   "cell_type": "code",
   "execution_count": null,
   "id": "185a674f",
   "metadata": {},
   "outputs": [
    {
     "name": "stdout",
     "output_type": "stream",
     "text": [
      " Năm Nhuận \n"
     ]
    }
   ],
   "source": [
    "#3WA12:\n",
    "n = int(input())\n",
    "n > 0\n",
    "if n % 4 == 0 and n % 100 != 0 and n % 400 != 0 :\n",
    "    print( \" Năm Nhuận \")\n",
    "else:\n",
    "    print(' không phải năm nhuận ')"
   ]
  },
  {
   "cell_type": "code",
   "execution_count": null,
   "id": "8d71b73c",
   "metadata": {},
   "outputs": [
    {
     "name": "stdout",
     "output_type": "stream",
     "text": [
      "giá trị của x =  -0.6\n"
     ]
    }
   ],
   "source": [
    "#3WA14: giải phương trình bậc nhất :\n",
    "# ax + b =0\n",
    "a = float(input())\n",
    "b = float(input())\n",
    "if a == 0 :\n",
    "    if b == 0 :\n",
    "        print(' phương trình vô số nghiệm')\n",
    "    else :\n",
    "        print( ' phương trình vô nghiệm ')   \n",
    "else :\n",
    "    x = - b / a\n",
    "    print('giá trị của x = ', x)\n"
   ]
  },
  {
   "cell_type": "code",
   "execution_count": null,
   "id": "8f6d06b6",
   "metadata": {},
   "outputs": [
    {
     "name": "stdout",
     "output_type": "stream",
     "text": [
      "Giỏi \n"
     ]
    }
   ],
   "source": [
    "#3WA15:\n",
    "n = float(input(' Điểm của học sinh :'))\n",
    "if n >= 8:\n",
    "    print('Giỏi ')\n",
    "elif n >= 6.5:\n",
    "    print(' Khá ')\n",
    "elif n >= 5 :\n",
    "    print(' Trung Bình ')\n",
    "else:\n",
    "    print(' Yếu ')"
   ]
  },
  {
   "cell_type": "code",
   "execution_count": null,
   "id": "925c658e",
   "metadata": {},
   "outputs": [
    {
     "name": "stdout",
     "output_type": "stream",
     "text": [
      "3 2 3\n"
     ]
    }
   ],
   "source": [
    "#3WA16:\n",
    "x = float(input(\"Nhập số thực: \"))\n",
    "floor_val = int(x)\n",
    "if x < 0 and x != floor_val:   \n",
    "    floor_val -= 1\n",
    "if x == floor_val:   \n",
    "    ceil_val = floor_val\n",
    "else:\n",
    "    if x > 0:\n",
    "        ceil_val = floor_val + 1\n",
    "    else:\n",
    "        ceil_val = floor_val\n",
    "fraction = x - int(x)\n",
    "if x >= 0:\n",
    "    if fraction < 0.5:\n",
    "        round_val = floor_val\n",
    "    else:\n",
    "        round_val = floor_val + 1\n",
    "else:\n",
    "    if (-fraction) < 0.5:   \n",
    "        round_val = ceil_val\n",
    "    else:\n",
    "        round_val = floor_val\n",
    "print(ceil_val, floor_val, round_val)\n",
    "\n"
   ]
  },
  {
   "cell_type": "code",
   "execution_count": null,
   "id": "5328edbb",
   "metadata": {},
   "outputs": [
    {
     "name": "stdout",
     "output_type": "stream",
     "text": [
      "a, b, c, d không lập thành cấp số nhân\n"
     ]
    }
   ],
   "source": [
    "\n",
    "#3WA17 :\n",
    "a , b , c , d = map(float , input().split())\n",
    "if b % a != 0:\n",
    "    print(\"Không thể tạo cấp số nhân vì b không chia hết cho a\")\n",
    "else:\n",
    "    q = b // a\n",
    "    if b * q == c and c * q == d:\n",
    "        print(\"a, b, c, d lập thành cấp số nhân với công bội nguyên q =\", q)\n",
    "    else:\n",
    "        print(\"a, b, c, d không lập thành cấp số nhân\")\n",
    "\n",
    "    "
   ]
  },
  {
   "cell_type": "code",
   "execution_count": null,
   "id": "d1677974",
   "metadata": {},
   "outputs": [],
   "source": []
  }
 ],
 "metadata": {
  "kernelspec": {
   "display_name": "Python 3",
   "language": "python",
   "name": "python3"
  },
  "language_info": {
   "codemirror_mode": {
    "name": "ipython",
    "version": 3
   },
   "file_extension": ".py",
   "mimetype": "text/x-python",
   "name": "python",
   "nbconvert_exporter": "python",
   "pygments_lexer": "ipython3",
   "version": "3.13.7"
  }
 },
 "nbformat": 4,
 "nbformat_minor": 5
}
