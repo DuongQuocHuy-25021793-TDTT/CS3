{
 "cells": [
  {
   "cell_type": "code",
   "execution_count": 4,
   "id": "7739e05d",
   "metadata": {},
   "outputs": [
    {
     "name": "stdout",
     "output_type": "stream",
     "text": [
      " dien tich hinh chu nhat  600.0\n",
      " chu vi hinh chu nhat  100.0\n"
     ]
    }
   ],
   "source": [
    "#home work 2\n",
    "#bai1\n",
    "a = float(input('nhap chieu dai:'))\n",
    "b = float(input('nhap chieu rong:'))\n",
    "S = a * b \n",
    "C = (a + b) *2\n",
    "print(' dien tich hinh chu nhat ', S)\n",
    "print(' chu vi hinh chu nhat ', C)"
   ]
  },
  {
   "cell_type": "code",
   "execution_count": 6,
   "id": "46bd9dd7",
   "metadata": {},
   "outputs": [
    {
     "name": "stdout",
     "output_type": "stream",
     "text": [
      " dien tich hinh tron  314.0\n",
      " chu vi hinh tron  62.800000000000004\n"
     ]
    }
   ],
   "source": [
    "#bai2\n",
    "r = float(input(' nhap ban kinh:'))\n",
    "S = 3.14 * r * r\n",
    "C = 2 * 3.14 * r\n",
    "print(' dien tich hinh tron ', S)\n",
    "print(' chu vi hinh tron ', C)\n",
    "          \n"
   ]
  },
  {
   "cell_type": "code",
   "execution_count": null,
   "id": "8d8141cf",
   "metadata": {},
   "outputs": [
    {
     "name": "stdout",
     "output_type": "stream",
     "text": [
      " tam giác thường \n",
      " chu vi 15.0 diện tích 9.921567416492215\n"
     ]
    }
   ],
   "source": [
    "#bai3\n",
    "a = float(input())\n",
    "b = float(input())\n",
    "c = float(input())\n",
    "chuvi = a + b + c\n",
    "p = chuvi / 2\n",
    "dientich = (p*(p-a)*(p-b)*(p-c))** 0.5\n",
    "\n",
    "if a + b <= c or a + c <= b or b + c <= a :\n",
    "    print( ' khong la 3 canh cua mot tam giac')\n",
    "else : \n",
    "    if a==b==c :\n",
    "        print(' tam giác đều')\n",
    "    elif a==b!=c or a==c!=b or b==c!=a :\n",
    "        print(' tam giac can ')\n",
    "    elif a**2+b**2 == c**2 or a**2+c**2 == b**2 or b**2+c**2 == a**2 :\n",
    "        print(' tam giác vuông ')\n",
    "    else:\n",
    "        print(' tam giác thường ')\n",
    "        \n",
    "    print(f' chu vi {chuvi} diện tích {dientich}')\n",
    "\n",
    "\n"
   ]
  },
  {
   "cell_type": "code",
   "execution_count": 14,
   "id": "50fc65ff",
   "metadata": {},
   "outputs": [
    {
     "name": "stdout",
     "output_type": "stream",
     "text": [
      "giá trị của x =  -2.0\n"
     ]
    }
   ],
   "source": [
    "#bai4 \n",
    "a = float(input())\n",
    "b = float(input())\n",
    "if a == 0 :\n",
    "    if b == 0 :\n",
    "        print(' phương trình vô số nghiệm')\n",
    "    else :\n",
    "        print( ' phương trình vô nghiệm ')   \n",
    "else :\n",
    "    x = - b / a\n",
    "    print('giá trị của x = ', x)\n"
   ]
  },
  {
   "cell_type": "code",
   "execution_count": null,
   "id": "2ee8977c",
   "metadata": {},
   "outputs": [
    {
     "name": "stdout",
     "output_type": "stream",
     "text": [
      " phương trình vô nghiệm\n"
     ]
    }
   ],
   "source": [
    "#bai5 : giải phương trình bậc 2 ax^2 + bx + c = 0\n",
    "import math\n",
    "a = float(input())\n",
    "b = float(input())\n",
    "c = float(input())\n",
    "delta =  b ** 2 - 4 * a * c\n",
    "if delta > 0 :\n",
    "    x1 = ( - b - math.sqrt(delta)) / (2 * a)\n",
    "    x2 = ( - b + math.sqrt(delta)) / (2 * a)\n",
    "    print(' phương trình có 2 nghiệm phân biệt ', x1 ,x2 )\n",
    "elif delta == 0 :\n",
    "    x = - b / (2 * a)\n",
    "    print(' phương trình có nghiệm kép ', x)\n",
    "else: \n",
    "    print(' phương trình vô nghiệm')\n",
    "\n",
    "\n"
   ]
  },
  {
   "cell_type": "code",
   "execution_count": 37,
   "id": "904a6627",
   "metadata": {},
   "outputs": [
    {
     "name": "stdout",
     "output_type": "stream",
     "text": [
      "4.0\n"
     ]
    }
   ],
   "source": [
    "#bai 6 \n",
    "a ,b ,c ,d = map(float , input().split())\n",
    "so_lon_nhat = max(a,b,c,d)\n",
    "print(so_lon_nhat)"
   ]
  },
  {
   "cell_type": "code",
   "execution_count": 38,
   "id": "95835a91",
   "metadata": {},
   "outputs": [
    {
     "name": "stdout",
     "output_type": "stream",
     "text": [
      "2.0\n"
     ]
    }
   ],
   "source": [
    "# bài 7\n",
    "a ,b ,c ,d = map(float , input().split())\n",
    "so_lon_nhat = min(a,b,c,d)\n",
    "print(so_lon_nhat)\n"
   ]
  },
  {
   "cell_type": "code",
   "execution_count": 6,
   "id": "69bfadc4",
   "metadata": {},
   "outputs": [
    {
     "name": "stdout",
     "output_type": "stream",
     "text": [
      "-1.0\n",
      "3.0\n"
     ]
    }
   ],
   "source": [
    "# bai 8 : Giải hệ phương trình tuyến tính :\n",
    "#  ax + by = m\n",
    "#  cx + dy = n\n",
    "a ,b ,m ,c ,d ,n = map(float , input().split())\n",
    "if a/b == c/d == m/n :\n",
    "    print(' Hệ phương trình vô số nghiệm ')\n",
    "elif a/b == c/d != m/n :\n",
    "    print(' Hệ phương trình vô nghiệm ')\n",
    "else :\n",
    "    x = (m-b*((n-c*m/a)/(d-c*b/a)))/a\n",
    "    y = (n-c*m/a)/(d-c*b/a)\n",
    "    print(x)\n",
    "    print(y)\n",
    "    \n"
   ]
  },
  {
   "cell_type": "code",
   "execution_count": 1,
   "id": "253f7508",
   "metadata": {},
   "outputs": [
    {
     "name": "stdout",
     "output_type": "stream",
     "text": [
      " thoi gian lam viec : 10000 giờ 0 phút 0 giây\n"
     ]
    }
   ],
   "source": [
    "#bai 9 : \n",
    "x = int(input( ' nhap so giay :'))\n",
    "so_gio = x // 3600\n",
    "so_phut = (x % 3600) // 60\n",
    "so_giay = (x % 3600) % 60\n",
    "print(f' thoi gian lam viec : {so_gio} giờ {so_phut} phút {so_giay} giây')\n",
    "\n",
    "\n"
   ]
  },
  {
   "cell_type": "code",
   "execution_count": 2,
   "id": "bac0b6ab",
   "metadata": {},
   "outputs": [
    {
     "name": "stdout",
     "output_type": "stream",
     "text": [
      " Điểm nằm trong đường tròn \n"
     ]
    }
   ],
   "source": [
    "#bai 10 :\n",
    "xI = float(input('hoanh do tam :'))\n",
    "yI = float(input('tung do tam:'))\n",
    "xA = float(input('hoanh do cua diem:'))\n",
    "yA = float(input('tung do cua diem :'))\n",
    "r = float(input('ban kinh duong tron :'))\n",
    "if (xA-xI)**2 + (yA-yI)**2 > r**2 :\n",
    "    print('Điểm nằm ngoài đường tròn')\n",
    "elif (xA-xI)**2 + (yA-yI)**2 == r**2 :\n",
    "    print(' Điểm thuộc đường tròn ')\n",
    "else :\n",
    "    print( ' Điểm nằm trong đường tròn ')\n",
    "     \n",
    "           \n",
    "\n",
    "           "
   ]
  },
  {
   "cell_type": "code",
   "execution_count": 5,
   "id": "c5826694",
   "metadata": {},
   "outputs": [
    {
     "name": "stdout",
     "output_type": "stream",
     "text": [
      "8.0\n"
     ]
    }
   ],
   "source": [
    "#bai 11 :\n",
    "x ,y = map(float , input().split())\n",
    "a = x**y\n",
    "print(a)"
   ]
  },
  {
   "cell_type": "code",
   "execution_count": null,
   "id": "feb7f43d",
   "metadata": {},
   "outputs": [],
   "source": []
  }
 ],
 "metadata": {
  "kernelspec": {
   "display_name": "Python 3",
   "language": "python",
   "name": "python3"
  },
  "language_info": {
   "codemirror_mode": {
    "name": "ipython",
    "version": 3
   },
   "file_extension": ".py",
   "mimetype": "text/x-python",
   "name": "python",
   "nbconvert_exporter": "python",
   "pygments_lexer": "ipython3",
   "version": "3.13.7"
  }
 },
 "nbformat": 4,
 "nbformat_minor": 5
}
